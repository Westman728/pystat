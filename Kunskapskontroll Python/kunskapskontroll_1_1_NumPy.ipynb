{
 "cells": [
  {
   "cell_type": "markdown",
   "id": "dacf74e6",
   "metadata": {},
   "source": [
    "# NumPy"
   ]
  },
  {
   "cell_type": "markdown",
   "id": "01b2bf34",
   "metadata": {},
   "source": [
    "Read the links: https://numpy.org/doc/stable/user/quickstart.html  and https://numpy.org/doc/stable/user/basics.broadcasting.html  before solving the exercises. "
   ]
  },
  {
   "cell_type": "code",
   "execution_count": 2,
   "id": "1f79e4a6",
   "metadata": {},
   "outputs": [],
   "source": [
    "import numpy as np"
   ]
  },
  {
   "cell_type": "markdown",
   "id": "7dae6889",
   "metadata": {},
   "source": [
    "### Print out the dimension (number of axes), shape, size and the datatype of the matrix A."
   ]
  },
  {
   "cell_type": "code",
   "execution_count": 31,
   "id": "7b3678cd",
   "metadata": {},
   "outputs": [],
   "source": [
    "A = np.arange(1, 16).reshape(3,5)"
   ]
  },
  {
   "cell_type": "code",
   "execution_count": 4,
   "id": "31d39235",
   "metadata": {
    "scrolled": true
   },
   "outputs": [
    {
     "name": "stdout",
     "output_type": "stream",
     "text": [
      "[[ 1  2  3  4  5]\n",
      " [ 6  7  8  9 10]\n",
      " [11 12 13 14 15]]\n",
      "2\n",
      "(3, 5)\n",
      "int32\n",
      "4\n"
     ]
    }
   ],
   "source": [
    "print(A) #whole array\n",
    "print(A.ndim) #shows its 2 dimensional\n",
    "print(A.shape) #shows it has 3 rows, 3 columns\n",
    "print(A.dtype) #datatype = int32\n",
    "print(A.itemsize) #size in bytes for each element, int32/8 = 4"
   ]
  },
  {
   "cell_type": "code",
   "execution_count": 5,
   "id": "766c14db",
   "metadata": {},
   "outputs": [
    {
     "name": "stdout",
     "output_type": "stream",
     "text": [
      "[[[10 11 12]\n",
      "  [13 14 15]\n",
      "  [16 17 18]]\n",
      "\n",
      " [[19 20 21]\n",
      "  [22 23 24]\n",
      "  [25 26 27]]]\n",
      "(2, 3, 3)\n"
     ]
    }
   ],
   "source": [
    "Z = np.array([\n",
    "                     [[10, 11, 12], [13, 14, 15], [16, 17, 18]],\n",
    "                     [[19, 20, 21], [22, 23, 24], [25, 26, 27]]])\n",
    "print(Z)\n",
    "print(Z.shape)"
   ]
  },
  {
   "cell_type": "markdown",
   "id": "e56d2a96",
   "metadata": {},
   "source": [
    "### Do the following computations on the matrices B and C: \n",
    "* Elementwise subtraction. \n",
    "* Elementwise multiplication. \n",
    "* Matrix multiplication (by default you should use the @ operator)."
   ]
  },
  {
   "cell_type": "code",
   "execution_count": 6,
   "id": "a7053fbb",
   "metadata": {},
   "outputs": [
    {
     "name": "stdout",
     "output_type": "stream",
     "text": [
      "[[1 2 3]\n",
      " [4 5 6]\n",
      " [7 8 9]]\n",
      "\n",
      "[[2. 2. 2.]\n",
      " [2. 2. 2.]\n",
      " [2. 2. 2.]]\n"
     ]
    }
   ],
   "source": [
    "B = np.arange(1, 10).reshape(3, 3)\n",
    "C = np.ones((3, 3))*2\n",
    "\n",
    "print(B)\n",
    "print()\n",
    "print(C)"
   ]
  },
  {
   "cell_type": "code",
   "execution_count": 7,
   "id": "3cd794ae",
   "metadata": {},
   "outputs": [
    {
     "name": "stdout",
     "output_type": "stream",
     "text": [
      "[[-1.  0.  1.]\n",
      " [ 2.  3.  4.]\n",
      " [ 5.  6.  7.]]\n",
      "[[ 2.  4.  6.]\n",
      " [ 8. 10. 12.]\n",
      " [14. 16. 18.]]\n",
      "[[12. 12. 12.]\n",
      " [30. 30. 30.]\n",
      " [48. 48. 48.]]\n"
     ]
    }
   ],
   "source": [
    "print(B - C) # elementwise subtraction\n",
    "print(B * C) # elementwise multiplication\n",
    "print(B @ C) # matrix operation"
   ]
  },
  {
   "cell_type": "markdown",
   "id": "96030d53",
   "metadata": {},
   "source": [
    "### Do the following calculations on the matrix:\n",
    "* Exponentiate each number elementwise (use the np.exp function).\n",
    "\n",
    "* Calculate the minimum value in the whole matrix. \n",
    "* Calculcate the minimum value in each row. \n",
    "* Calculcate the minimum value in each column. \n",
    "\n",
    "\n",
    "* Find the index value for the minimum value in the whole matrix (hint: use np.argmin).\n",
    "* Find the index value for the minimum value in each row (hint: use np.argmin).\n",
    "\n",
    "\n",
    "* Calculate the sum for all elements.\n",
    "* Calculate the mean for each column. \n",
    "* Calculate the median for each column. "
   ]
  },
  {
   "cell_type": "code",
   "execution_count": 8,
   "id": "f8a9166b",
   "metadata": {
    "scrolled": true
   },
   "outputs": [
    {
     "name": "stdout",
     "output_type": "stream",
     "text": [
      "[[1 2 3]\n",
      " [4 5 6]\n",
      " [7 8 9]]\n"
     ]
    }
   ],
   "source": [
    "B = np.arange(1, 10).reshape(3, 3)\n",
    "print(B)"
   ]
  },
  {
   "cell_type": "code",
   "execution_count": 9,
   "id": "f03f24f7",
   "metadata": {},
   "outputs": [
    {
     "name": "stdout",
     "output_type": "stream",
     "text": [
      "[[2.71828183e+00 7.38905610e+00 2.00855369e+01]\n",
      " [5.45981500e+01 1.48413159e+02 4.03428793e+02]\n",
      " [1.09663316e+03 2.98095799e+03 8.10308393e+03]]\n",
      "1\n",
      "[1 4 7]\n",
      "[1 2 3]\n",
      "0\n",
      "[0 0 0]\n",
      "45\n",
      "[4. 5. 6.]\n",
      "[4. 5. 6.]\n"
     ]
    }
   ],
   "source": [
    "print(np.exp(B)) #exponantiates by e\n",
    "print(np.min(B)) #shows the min value of B\n",
    "print(np.min(B, axis=1)) #shows min value for all axis=1 (all rows in first column)\n",
    "print(np.min(B, axis=0)) #shows min value for all axis=0 (first row, all columns)\n",
    "print(np.argmin(B)) #prints the index number of the minimum value (in this case, min value is 1 which is index spot 0)\n",
    "print(np.argmin(B, axis=1)) #prints index number of min value for each row (axis 1)\n",
    "print(np.sum(B)) #sums all elements in array B\n",
    "print(np.mean(B, axis=0)) #prints the mean of each column (when axis=0)\n",
    "print(np.median(B, axis=0)) #prints the median of each column. Same as mean in this case, because of the structure of datapoints\n",
    "#given"
   ]
  },
  {
   "cell_type": "markdown",
   "id": "541eb7ba",
   "metadata": {},
   "source": [
    "### What does it mean when you provide fewer indices than axes when slicing? See example below."
   ]
  },
  {
   "cell_type": "code",
   "execution_count": 10,
   "id": "9c8abf56",
   "metadata": {},
   "outputs": [
    {
     "name": "stdout",
     "output_type": "stream",
     "text": [
      "[[ 1  2  3  4  5]\n",
      " [ 6  7  8  9 10]\n",
      " [11 12 13 14 15]]\n"
     ]
    }
   ],
   "source": [
    "print(A)"
   ]
  },
  {
   "cell_type": "code",
   "execution_count": 13,
   "id": "69415f7b",
   "metadata": {},
   "outputs": [
    {
     "name": "stdout",
     "output_type": "stream",
     "text": [
      "[ 6  7  8  9 10]\n"
     ]
    }
   ],
   "source": [
    "print(A[1])"
   ]
  },
  {
   "cell_type": "markdown",
   "id": "6c53541b",
   "metadata": {},
   "source": [
    "**Answer:**"
   ]
  },
  {
   "cell_type": "markdown",
   "id": "b39f5e27",
   "metadata": {},
   "source": [
    "Returns the row index 1 and automatically fills the column index, so output is entirety of row 2. Equivalent to A[1, :]"
   ]
  },
  {
   "cell_type": "markdown",
   "id": "6652d0c9",
   "metadata": {},
   "source": [
    "### Iterating over multidimensional arrays is done with respect to the first axis, so in the example below we iterate trough the rows. If you would like to iterate through the array *elementwise*, how would you do that?"
   ]
  },
  {
   "cell_type": "code",
   "execution_count": 32,
   "id": "9459864f",
   "metadata": {},
   "outputs": [
    {
     "data": {
      "text/plain": [
       "array([[ 1,  2,  3,  4,  5],\n",
       "       [ 6,  7,  8,  9, 10],\n",
       "       [11, 12, 13, 14, 15]])"
      ]
     },
     "execution_count": 32,
     "metadata": {},
     "output_type": "execute_result"
    }
   ],
   "source": [
    "A"
   ]
  },
  {
   "cell_type": "code",
   "execution_count": 33,
   "id": "a671bb5a",
   "metadata": {},
   "outputs": [
    {
     "name": "stdout",
     "output_type": "stream",
     "text": [
      "[1 2 3 4 5]\n",
      "[ 6  7  8  9 10]\n",
      "[11 12 13 14 15]\n"
     ]
    }
   ],
   "source": [
    "for i in A:\n",
    "    print(i)"
   ]
  },
  {
   "cell_type": "code",
   "execution_count": 38,
   "id": "f4e443a0",
   "metadata": {},
   "outputs": [
    {
     "name": "stdout",
     "output_type": "stream",
     "text": [
      "1\n",
      "2\n",
      "3\n",
      "4\n",
      "5\n",
      "6\n",
      "7\n",
      "8\n",
      "9\n",
      "10\n",
      "11\n",
      "12\n",
      "13\n",
      "14\n",
      "15\n"
     ]
    }
   ],
   "source": [
    "for i in A.ravel():    #prints each \"i\" (item) from A in the shape of a 1-dimensional array\n",
    "    print(i)"
   ]
  },
  {
   "cell_type": "markdown",
   "id": "608a2583",
   "metadata": {},
   "source": [
    "### Explain what the code below does. More specifically, b has three axes - what does this mean? "
   ]
  },
  {
   "cell_type": "code",
   "execution_count": 18,
   "id": "f8f9b26f",
   "metadata": {},
   "outputs": [
    {
     "name": "stdout",
     "output_type": "stream",
     "text": [
      "[ 0  1  2  3  4  5  6  7  8  9 10 11 12 13 14 15 16 17 18 19 20 21 22 23\n",
      " 24 25 26 27 28 29]\n",
      "\n",
      "[[[ 0  1  2  3  4]\n",
      "  [ 5  6  7  8  9]\n",
      "  [10 11 12 13 14]]\n",
      "\n",
      " [[15 16 17 18 19]\n",
      "  [20 21 22 23 24]\n",
      "  [25 26 27 28 29]]]\n",
      "(2, 3, 5)\n"
     ]
    }
   ],
   "source": [
    "a = np.arange(30) #creates a 1-dim array including integers 0-29\n",
    "b = a.reshape((2, 3, -1)) #reshapes \"a\" into a multidimensional array \"b\" with 2 rows, 3 columns, however the -1 indicates\n",
    "#that the rest of the dimensions will be auto calculated to fit all the original datapoints, in this case 2,3,5\n",
    "print(a)\n",
    "print()\n",
    "\n",
    "print(b)\n",
    "print(b.shape)"
   ]
  },
  {
   "cell_type": "markdown",
   "id": "ab5933d5",
   "metadata": {},
   "source": [
    "### Broadcasting\n",
    "**Read the following link about broadcasting: https://numpy.org/doc/stable/user/basics.broadcasting.html#basics-broadcasting**"
   ]
  },
  {
   "cell_type": "markdown",
   "id": "039805ba",
   "metadata": {},
   "source": [
    "# Remark on Broadcasting when doing Linear Algebra calculations in Python. "
   ]
  },
  {
   "cell_type": "markdown",
   "id": "c4bcc147",
   "metadata": {},
   "source": [
    "### From the mathematical rules of matrix addition, the operation below (m1 + m2) does not make sense. The reason is that matrix addition requires two matrices of the same size. In Python however, it works due to broadcasting rules in NumPy. So you must be careful when doing Linear Algebra calculations in Python since they do not follow the \"mathematical rules\". This can however easily be handled by doing some simple programming, for example validating that two matrices have the same shape is easy if you for instance want to add two matrices. "
   ]
  },
  {
   "cell_type": "code",
   "execution_count": 43,
   "id": "1fd46778",
   "metadata": {},
   "outputs": [
    {
     "name": "stdout",
     "output_type": "stream",
     "text": [
      "[[2 3]\n",
      " [4 5]]\n"
     ]
    }
   ],
   "source": [
    "m1 = np.array([[1, 2], [3, 4]])\n",
    "m2 = np.array([1, 1])\n",
    "print(m1 + m2)"
   ]
  },
  {
   "cell_type": "markdown",
   "id": "047d6576",
   "metadata": {},
   "source": [
    "### The example below would also not be allowed if following the \"mathematical rules\" in Linear Algebra. But it works due to broadcasting in NumPy. "
   ]
  },
  {
   "cell_type": "code",
   "execution_count": 44,
   "id": "5e6ef2e4",
   "metadata": {},
   "outputs": [
    {
     "name": "stdout",
     "output_type": "stream",
     "text": [
      "[2 3 4]\n"
     ]
    }
   ],
   "source": [
    "v1 = np.array([1, 2, 3])\n",
    "print(v1 + 1)"
   ]
  },
  {
   "cell_type": "code",
   "execution_count": 45,
   "id": "e2cbae26",
   "metadata": {},
   "outputs": [
    {
     "name": "stdout",
     "output_type": "stream",
     "text": [
      "[[1 2]\n",
      " [3 4]]\n",
      "[2 2]\n"
     ]
    }
   ],
   "source": [
    "A = np.arange(1, 5).reshape(2,2)\n",
    "print(A)\n",
    "\n",
    "b = np.array([2, 2])\n",
    "print(b)"
   ]
  },
  {
   "cell_type": "markdown",
   "id": "722fd5cd",
   "metadata": {},
   "source": [
    "# Linear Algebra Exercises"
   ]
  },
  {
   "cell_type": "markdown",
   "id": "b8935099",
   "metadata": {},
   "source": [
    "The exercies are taken from the \"Matrix Algebra for Engineers\" by Chasnov: https://www.math.hkust.edu.hk/~machas/matrix-algebra-for-engineers.pdf .\n",
    "\n",
    "Do the following exercises: \n",
    "* Chapter 2, exercise 1-3.\n",
    "* Quiz on p.11, exercise 2. \n",
    "* Chapter 6, exercise 1. \n",
    "* Quiz on p.19, exercise 3. \n",
    "\n",
    "\n",
    "* Chapter 10, exercise 1. \n",
    "* Chapter 12 exercise 1. \n"
   ]
  },
  {
   "cell_type": "code",
   "execution_count": 20,
   "id": "a452a77a",
   "metadata": {},
   "outputs": [
    {
     "name": "stdout",
     "output_type": "stream",
     "text": [
      "[[ 2  1 -1]\n",
      " [ 1 -1  1]]\n",
      "[[ 4 -2  1]\n",
      " [ 2 -4 -2]]\n",
      "[[1 2]\n",
      " [2 1]]\n",
      "[[3 4]\n",
      " [4 3]]\n",
      "[[1]\n",
      " [2]]\n"
     ]
    }
   ],
   "source": [
    "A = np.array([[2, 1, -1], [1, -1, 1]])\n",
    "B = np.array([[4, -2, 1], [2, -4, -2]])\n",
    "\n",
    "C = np.array([[1, 2], [2, 1]])\n",
    "D = np.array([[3, 4], [4, 3]])\n",
    "\n",
    "E = np.array([[1], [2]])\n",
    "\n",
    "print(A)\n",
    "print(B)\n",
    "print(C)\n",
    "print(D)\n",
    "print(E)"
   ]
  },
  {
   "cell_type": "markdown",
   "id": "9d8366cc",
   "metadata": {},
   "source": [
    "**Chap2. Question 1.**\n",
    "\n",
    "**Write a function \"add_mult_matrices\" that takes two matrices as input arguments (validate that the input are of the type numpy.ndarray by using the isinstance function), a third argument that is either 'add' or 'multiply' that specifies if you want to add or multiply the matrices (validate that the third argument is either 'add' or 'multiply'). When doing matrix addition, validate that the matrices have the same size. When doing matrix multiplication, validate that the sizes conform (i.e. number of columns in the first matrix is equal to the number of rows in the second matrix).**\n",
    "\n",
    "In this exercise, create a function that takes two matrices as input and either adds or multiplies them by specifying a argument as either 'add' or 'multiply'. Validate that both matrices taken as input are of the type ndarray (use the isinstance function)."
   ]
  },
  {
   "cell_type": "code",
   "execution_count": 21,
   "id": "535ee48c",
   "metadata": {},
   "outputs": [
    {
     "name": "stdout",
     "output_type": "stream",
     "text": [
      "[[ 0 -4  3]\n",
      " [ 0 -2 -4]]\n",
      "[[11 10]\n",
      " [10 11]]\n",
      "[[  8 -10  -3]\n",
      " [ 10  -8   0]]\n"
     ]
    }
   ],
   "source": [
    "#\"When doing matrix addition, validate that the matrices have the same size.\" - in the code or generally? Assuming in our code\n",
    "\n",
    "#define function\n",
    "def add_mult_matrices(matrix1, matrix2,operation):\n",
    "    #validate inputs as Numpy Arrays\n",
    "    if not (isinstance(matrix1, np.ndarray) and isinstance(matrix2, np.ndarray)):\n",
    "        raise ValueError(\"Inputs need to be Numpy Arrays\")\n",
    "    \n",
    "    #validate shapes of matrices for addition and multiplication, raise error if wrong shape\n",
    "    if operation==\"add\" or operation==\"subtract\":\n",
    "        if matrix1.shape != matrix2.shape:\n",
    "            raise ValueError(\"Matrices must have same shape for addition or subtraction\")\n",
    "    elif operation==\"multiply\":\n",
    "        if matrix1.shape[1] != matrix2.shape[0]:\n",
    "            raise ValueError(\"Matrix 1 must have same number of columns as Matrix 2 has rows for multiplication\")\n",
    "    #set up add, multiply operations, raise error if wrong input\n",
    "    if operation == \"add\":\n",
    "        result = matrix1 + matrix2\n",
    "    elif operation == \"subtract\":\n",
    "        result = matrix1 - matrix2\n",
    "    elif operation == \"multiply\":\n",
    "        result = (matrix1 @ matrix2) # @ = multiplikation\n",
    "    else:\n",
    "        raise ValueError(\"Can only add, subtract or multiply\")\n",
    "    return result\n",
    "#PERFORM TASKS, first B-2A\n",
    "print(add_mult_matrices(B, 2 * A, \"subtract\"))\n",
    "\n",
    "\n",
    "#3C-E (commented out since raises shape error)\n",
    "# print(add_mult_matrices(3 * C, E, \"subtract\"))\n",
    "\n",
    "#A*C (commented out since raises shape error)\n",
    "#print(add_mult_matrices(A, C, \"multiply\"))\n",
    "\n",
    "#C*D\n",
    "print(add_mult_matrices(C, D, \"multiply\"))\n",
    "\n",
    "#C*B\n",
    "print(add_mult_matrices(C, B, \"multiply\"))"
   ]
  },
  {
   "cell_type": "markdown",
   "id": "5000c829",
   "metadata": {},
   "source": [
    "**Chap2. Question 2**"
   ]
  },
  {
   "cell_type": "code",
   "execution_count": 23,
   "id": "44dab740",
   "metadata": {},
   "outputs": [],
   "source": [
    "A = np.array([[1, 2],[2,4]])\n",
    "B = np.array([[2,1],[1,3]])\n",
    "C = np.array([[4,3],[0,2]])"
   ]
  },
  {
   "cell_type": "code",
   "execution_count": 24,
   "id": "0f0a2851",
   "metadata": {},
   "outputs": [
    {
     "name": "stdout",
     "output_type": "stream",
     "text": [
      "Same\n"
     ]
    }
   ],
   "source": [
    "#use the function we created before or not? not sure, going with simplicity\n",
    "AB=np.dot(A, B)\n",
    "AC=np.dot(A, C)\n",
    "\n",
    "if np.array_equal(AB, AC) and not np.array_equal(B, C):\n",
    "    print(\"Same\")\n",
    "else:\n",
    "    print(\"Not same\")"
   ]
  },
  {
   "cell_type": "markdown",
   "id": "a7f5b140",
   "metadata": {},
   "source": [
    "**Chap2. Question 3**"
   ]
  },
  {
   "cell_type": "code",
   "execution_count": 6,
   "id": "668b1323",
   "metadata": {},
   "outputs": [
    {
     "name": "stdout",
     "output_type": "stream",
     "text": [
      "[[ 2  3  4]\n",
      " [ 2  6 12]\n",
      " [ 2  9 16]]\n",
      "[[ 2  2  2]\n",
      " [ 3  6  9]\n",
      " [ 4 12 16]]\n"
     ]
    }
   ],
   "source": [
    "A = np.array([[1,1,1],[1,2,3],[1,3,4]])\n",
    "D = np.array([[2,0,0],[0,3,0],[0,0,4]])\n",
    "\n",
    "print(A @ D)\n",
    "print(D @ A)"
   ]
  },
  {
   "cell_type": "markdown",
   "id": "334ca623",
   "metadata": {},
   "source": [
    "**Quiz p.11, Question 2**"
   ]
  },
  {
   "cell_type": "code",
   "execution_count": 12,
   "id": "b031a786",
   "metadata": {},
   "outputs": [
    {
     "name": "stdout",
     "output_type": "stream",
     "text": [
      "Match found in index 1\n"
     ]
    }
   ],
   "source": [
    "A = np.array([[1,-1],[-1,1]])\n",
    "B = np.array([[-1,1],[1,-1]])\n",
    "#create checklist from target matrices\n",
    "checklist=[\n",
    "    np.array([[-2,2],[2,-2]]),\n",
    "    np.array([[2,-2],[-2,2]]),\n",
    "    np.array([[-2,2],[-2,2]]),\n",
    "    np.array([[-2,-2],[2,2]])\n",
    "]\n",
    "#set match and index variables to see exactly which matrices matches\n",
    "match_found=False\n",
    "matching_index=None\n",
    "\n",
    "#use enumerate to simultaneously iterate through index and item(iteration names irrelevant, if given 2 arguments = index,element)\n",
    "#print where in \"checklist\" the match was found\n",
    "for index, item in enumerate(checklist):\n",
    "    product = A @ B\n",
    "    if np.array_equal(product, item):\n",
    "        match_found=True\n",
    "        matching_index=index\n",
    "        print(f\"Match found in index {matching_index +1}\") #use (f\"string\") for precise output\n",
    "        break\n",
    "if not match_found:\n",
    "    print(\"No match found\")"
   ]
  },
  {
   "cell_type": "markdown",
   "id": "fbfb4124",
   "metadata": {},
   "source": [
    "**Chap 6. Question 1**"
   ]
  },
  {
   "cell_type": "code",
   "execution_count": 15,
   "id": "9c68d160",
   "metadata": {},
   "outputs": [
    {
     "name": "stdout",
     "output_type": "stream",
     "text": [
      "[[ 5. -6.]\n",
      " [-4.  5.]]\n",
      "[[ 0.5        -0.66666667]\n",
      " [-0.5         1.        ]]\n"
     ]
    }
   ],
   "source": [
    "#might encounter rounding errors, look into .allclose later\n",
    "A = ([[5,6],[4,5]])\n",
    "B = ([[6,4],[3,3]])\n",
    "\n",
    "#only works with square matrices\n",
    "print(np.linalg.inv(A))\n",
    "print(np.linalg.inv(B))"
   ]
  },
  {
   "cell_type": "markdown",
   "id": "574b6d18",
   "metadata": {},
   "source": [
    "**Quiz p.19, Question 3**"
   ]
  },
  {
   "cell_type": "code",
   "execution_count": 39,
   "id": "c4cc11eb",
   "metadata": {},
   "outputs": [
    {
     "name": "stdout",
     "output_type": "stream",
     "text": [
      "Match found in index 0\n"
     ]
    }
   ],
   "source": [
    "#problems, answer is defined as 1/2(matrix), need workaround\n",
    "A = np.array([[2,2],\n",
    "              [1,2]])\n",
    "\n",
    "checklist2=[\n",
    "    np.array([[2,-2],[-1,2]]),\n",
    "    np.array([[-2,2],[1,-2]]),\n",
    "    np.array([[2,2],[-1,-2]]),\n",
    "    np.array([[-2,-2],[1,2]])\n",
    "]\n",
    "match_found2=False\n",
    "matching_index2=None\n",
    "inverse_A = np.linalg.inv(A)  #define inverse of A\n",
    "\n",
    "for index, item in enumerate(checklist2):\n",
    "    item_fix=item/2 #divide items in checklist2 by 2 for accurate answer\n",
    "    \n",
    "    if np.array_equal(item_fix, inverse_A):\n",
    "        match_found2=True\n",
    "        matching_index2=index\n",
    "\n",
    "if match_found2==True:\n",
    "    print(f\"Match found in index {matching_index2}\")\n",
    "else:\n",
    "    print(\"No match found\")"
   ]
  },
  {
   "cell_type": "markdown",
   "id": "5de93779",
   "metadata": {},
   "source": [
    "**Chap10. Question 1 a)**"
   ]
  },
  {
   "cell_type": "code",
   "execution_count": 9,
   "id": "e9a63544",
   "metadata": {},
   "outputs": [
    {
     "name": "stdout",
     "output_type": "stream",
     "text": [
      "[[ 3.]\n",
      " [ 4.]\n",
      " [-6.]]\n"
     ]
    }
   ],
   "source": [
    "#create arrays from given equations\n",
    "A = np.array([[3,-7,-2],\n",
    "              [-3,5,1],\n",
    "              [6,-4,0]\n",
    "             ])\n",
    "B = np.array([[-7],\n",
    "             [5],\n",
    "             [2]\n",
    "             ])\n",
    "print(np.linalg.solve(A, B)) #use np.linalg.solve to compute matrices\n",
    "\n"
   ]
  },
  {
   "cell_type": "code",
   "execution_count": 25,
   "id": "f74295d5",
   "metadata": {},
   "outputs": [
    {
     "name": "stdout",
     "output_type": "stream",
     "text": [
      "[ 3.  4. -6.]\n"
     ]
    }
   ],
   "source": [
    "#gaussian elimination calculation, code works but struggling to understand fully\n",
    "\n",
    "#define the coefficient matrix A and the right side vector B\n",
    "A = np.array([[3, -7, -2], [-3, 5, 1], [6, -4, 0]])\n",
    "B = np.array([[-7], [5], [2]])\n",
    "\n",
    "#determine the number of equations/variables\n",
    "n = len(B)\n",
    "\n",
    "#create the augmented matrix by combining A and B as type=float to avoid potential problems\n",
    "augmented_matrix = np.concatenate((A, B), axis=1).astype(float)\n",
    "\n",
    "#perform Gaussian elimination with partial pivoting\n",
    "for pivot_row in range(n):\n",
    "    # find the row with the maximum value in the current column\n",
    "    max_row = pivot_row + np.argmax(np.abs(augmented_matrix[pivot_row:, pivot_row]))\n",
    "    \n",
    "    #swap the pivot row and the row with the maximum value\n",
    "    augmented_matrix[[pivot_row, max_row]] = augmented_matrix[[max_row, pivot_row]]\n",
    "    \n",
    "    #eliminate elements below the pivot\n",
    "    for current_row in range(pivot_row + 1, n):\n",
    "        scaling = augmented_matrix[current_row, pivot_row] / augmented_matrix[pivot_row, pivot_row]\n",
    "        augmented_matrix[current_row] -= scaling * augmented_matrix[pivot_row]\n",
    "\n",
    "#perform back substitution to find the solution\n",
    "solution = np.zeros(n)\n",
    "for i in range(n - 1, -1, -1):\n",
    "    solution[i] = (augmented_matrix[i, -1] - np.dot(augmented_matrix[i, i + 1:n], solution[i + 1:n])) / augmented_matrix[i, i]\n",
    "\n",
    "print(solution)\n"
   ]
  },
  {
   "cell_type": "markdown",
   "id": "3f49e9e1",
   "metadata": {},
   "source": [
    "**Chap10. Question 1 b)**"
   ]
  },
  {
   "cell_type": "code",
   "execution_count": 54,
   "id": "6f6e72fb",
   "metadata": {},
   "outputs": [
    {
     "name": "stdout",
     "output_type": "stream",
     "text": [
      "[[ 8.]\n",
      " [ 2.]\n",
      " [-1.]]\n"
     ]
    }
   ],
   "source": [
    "A = np.array([[1,-2,3],\n",
    "             [-1,3,-1],\n",
    "             [2,-5,5]\n",
    "             ])\n",
    "B = np.array([[1],\n",
    "             [-1],\n",
    "             [1]\n",
    "             ])\n",
    "\n",
    "print(np.linalg.solve(A, B))"
   ]
  },
  {
   "cell_type": "markdown",
   "id": "beb0a8af",
   "metadata": {},
   "source": [
    "**Chap 12. Question 1**"
   ]
  },
  {
   "cell_type": "code",
   "execution_count": 40,
   "id": "4fe15c46",
   "metadata": {},
   "outputs": [
    {
     "name": "stdout",
     "output_type": "stream",
     "text": [
      "[[ 0.66666667  1.33333333  0.5       ]\n",
      " [ 1.          2.          0.5       ]\n",
      " [-3.         -5.         -1.        ]]\n"
     ]
    }
   ],
   "source": [
    "#rounding errors again, needs fix\n",
    "A = ([[3,-7,-2],\n",
    "     [-3,5,1],\n",
    "     [6,-4,0]\n",
    "     ])\n",
    "print(np.linalg.inv(A))"
   ]
  },
  {
   "cell_type": "markdown",
   "id": "6a4a524f",
   "metadata": {},
   "source": [
    "### Copies and Views\n",
    "Read the following link: https://numpy.org/doc/stable/user/basics.copies.html"
   ]
  },
  {
   "cell_type": "markdown",
   "id": "6cbbeaf7",
   "metadata": {},
   "source": [
    "**Basic indexing creates a view, How can you check if v1 and v2 is a view or copy? If you change the last element in v2 to 123, will the last element in v1 be changed? Why?**"
   ]
  },
  {
   "cell_type": "code",
   "execution_count": 4,
   "id": "5b9ef4df",
   "metadata": {},
   "outputs": [
    {
     "name": "stdout",
     "output_type": "stream",
     "text": [
      "[0 1 2 3]\n",
      "[2 3]\n"
     ]
    }
   ],
   "source": [
    "v1 = np.arange(4)\n",
    "v2 = v1[-2:]\n",
    "print(v1)\n",
    "print(v2)"
   ]
  },
  {
   "cell_type": "code",
   "execution_count": 5,
   "id": "d2440489",
   "metadata": {},
   "outputs": [
    {
     "name": "stdout",
     "output_type": "stream",
     "text": [
      "None\n",
      "[0 1 2 3]\n"
     ]
    }
   ],
   "source": [
    "# The base attribute of a view returns the original array while it returns None for a copy.\n",
    "print(v1.base)\n",
    "print(v2.base)"
   ]
  },
  {
   "cell_type": "code",
   "execution_count": 6,
   "id": "c8752807",
   "metadata": {},
   "outputs": [
    {
     "name": "stdout",
     "output_type": "stream",
     "text": [
      "[  0   1   2 123]\n",
      "[  2 123]\n"
     ]
    }
   ],
   "source": [
    "# The last element in v1 will be changed aswell since v2 is a view, meaning they share the same data buffer.\n",
    "v2[-1] = 123\n",
    "print(v1)\n",
    "print(v2)"
   ]
  },
  {
   "cell_type": "markdown",
   "id": "73a77a5d",
   "metadata": {},
   "source": [
    "Use .base to check if arrays are views, copies or standalones (none = standalone). If element is changed in v2, same element will not be changed in v1 since v2 is created as a sliced copy of v1, they do share data though"
   ]
  }
 ],
 "metadata": {
  "kernelspec": {
   "display_name": "Python 3 (ipykernel)",
   "language": "python",
   "name": "python3"
  },
  "language_info": {
   "codemirror_mode": {
    "name": "ipython",
    "version": 3
   },
   "file_extension": ".py",
   "mimetype": "text/x-python",
   "name": "python",
   "nbconvert_exporter": "python",
   "pygments_lexer": "ipython3",
   "version": "3.11.5"
  }
 },
 "nbformat": 4,
 "nbformat_minor": 5
}
